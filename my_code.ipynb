{
 "cells": [
  {
   "cell_type": "markdown",
   "id": "alive-enclosure",
   "metadata": {},
   "source": [
    "---\n",
    "## <font color='blue'> 0. 필요 패키지 불러오기</font>\n",
    "\n",
    "필요한 라이브러리들을 불러옵니다."
   ]
  },
  {
   "cell_type": "code",
   "execution_count": 2,
   "id": "logical-remainder",
   "metadata": {},
   "outputs": [],
   "source": [
    "import os\n",
    "import pandas as pd\n",
    "import numpy as np\n",
    "import warnings\n",
    "from tqdm import tqdm\n",
    "import time\n",
    "\n",
    "\n",
    "import random\n",
    "from sklearn.preprocessing import StandardScaler\n",
    "from sklearn.ensemble import RandomForestClassifier\n",
    "from xgboost import XGBClassifier\n",
    "from lightgbm import LGBMClassifier\n",
    "from sklearn.ensemble import GradientBoostingClassifier\n",
    "from sklearn.ensemble import ExtraTreesClassifier\n",
    "from sklearn.ensemble import BaggingClassifier\n",
    "import pickle\n",
    "import os\n",
    "\n",
    "import seaborn as sns\n",
    "import matplotlib.pyplot as plt\n",
    "from sklearn.metrics import accuracy_score, precision_score, recall_score, precision_recall_curve, f1_score\n",
    "from sklearn.metrics import confusion_matrix\n",
    "from sklearn.metrics import roc_curve, roc_auc_score\n",
    "\n",
    "\n",
    "warnings.filterwarnings(\"ignore\")"
   ]
  },
  {
   "cell_type": "markdown",
   "id": "driving-tulsa",
   "metadata": {},
   "source": [
    "---\n",
    "## <font color='blue'> 1. 하이퍼파라미터 설정</font>\n",
    "\n",
    "모델 학습 및 데이터 로드에 사용되는 인자값들을 미리 설정해둡니다.  "
   ]
  },
  {
   "cell_type": "code",
   "execution_count": 3,
   "id": "infectious-carol",
   "metadata": {},
   "outputs": [],
   "source": [
    "args = {\n",
    "    \"EXCEL_PATH\": './data/전기로(1월~4월)rev.xlsx', # 제공받은 엑셀 파일 데이터입니다.(석사님이 보내주신 원본 데이터)\n",
    "    \"MODEL_SAVE_PATH\": './model',                # 학습 후 모델을 pickel 파일 형식으로 저장할 때, 저장할 경로입니다. pickel은 파이썬에서 제공하는 모듈로 쉽게 모델을 저장해놓고 불러올 수 있더라구요.\n",
    "    \"RESULT_PATH\": './result',                   # 모델 학습 결과(0(출강X) 혹은 1(출강) 여부)를 저장할 경로입니다.\n",
    "    \"SCALER_PATH\": './scaler',                   # 학습 시 정규화를 위해 계산된 학습 데이터의 칼럼별 평균 및 표준편차 정보를 저장할 경로입니다. \n",
    "    \"PREV\": 3,                                   # 석사님이 주신 데이터에서 실제 출강 시점 이전 PREV 분 까지도 출강 시점으로 설정하겠다는 값입니다. \n",
    "    \"POST\": 1,                                   # 마찬가지로 출강 시점 POST 분까지 출강시점으로 설정하겠다는 값입니다. \n",
    "    \"FOLD_NUM\": 5,                               # 5번의 교차 검증으로 모델 성능을 평가합니다.\n",
    "    \"MODE\": 'train_split',                       # train 모드입니다(train, test 모드를 나눴는데, 여기서는 크게 의미 없습니다!)\n",
    "    \"TEST_SIZE\": 0.2,                            # 전체 데이터의 20%를 테스트셋으로 설정합니다.\n",
    "    \"RANDOM_SEED\": 42,                           # 시드를 고정합니다.\n",
    "    \"DROP_COLS\": [\"천정 냉각수 유량\"]                # 리스트 내의 이름을 갖고 있는 칼럼을 제거할 수 있도록 하였습니다. \n",
    "}"
   ]
  },
  {
   "cell_type": "markdown",
   "id": "distinct-symphony",
   "metadata": {},
   "source": [
    "---\n",
    "## <font color='blue'> 2. 엑셀 파일 로드</font>\n",
    "* `load_data` 함수입니다.\n",
    "\n",
    "엑셀 파일을 불러온 후, 먼저 불필요한 칼럼부터 제거합니다.(스크랩 종류 및 양 ~ 데이터명까지 총 4개 칼럼. 이 칼럼들은 값이 비어있어서 그냥 빼줬던 것으로 기억합니다.)\n",
    "\n",
    "그 밑으로는, 칼럼 이름을 보기 좋게 처리하고(line 9), 시간 칼럼은 시간 분단위까지만 표시하게끔 하였습니다.(line 10)"
   ]
  },
  {
   "cell_type": "code",
   "execution_count": 4,
   "id": "demanding-rehabilitation",
   "metadata": {},
   "outputs": [],
   "source": [
    "# 엑셀 데이터 로드 함수\n",
    "def load_data(args):\n",
    "    \"\"\"\n",
    "    :param args: args.py의 하이퍼파라미터\n",
    "    :return: '스크랩 종류 및 양', '부원료', 'Unnamed: 0', '데이터명'등의 불필요 칼럼은 제거하고, '스크랩 종류 및 량' 시트와 merge한 데이터프레임(df)을 반환합니다.\n",
    "    \"\"\"\n",
    "    df = pd.read_excel(args[\"EXCEL_PATH\"], sheet_name=0, header=7) # rows : 155805 | Heats : 2209(1~4월 데이터 기준)\n",
    "    df = df.drop(['스크랩 종류 및 양', '부원료', 'Unnamed: 0', '데이터명'], axis=1)        # 불필요 칼럼 제거  \n",
    "    df.columns = list(df.columns[:4]) + [x.split('\\n')[0] for x in df.columns[4:]] # 칼럼 이름 변경\n",
    "    df['시간'] = df['시간'].apply(lambda x: x.round(freq='T')) # 시간 칼럼 처리 \n",
    "\n",
    "    scrap = pd.read_excel(args[\"EXCEL_PATH\"], sheet_name=1, header=1) # 스크랩 데이터 불러오기\n",
    "    scrap = scrap.rename(columns={\"HEAT\": \"히트NO.\"})  # 칼럼 이름 변경\n",
    "    scrap[\"총사용량\"] = scrap[\"총사용량\"] * 0.001 # kg -> t   # kg 단위를 톤으로 바꿨습니다.\n",
    "    scrap = scrap.drop([\"Unnamed: 0\", \"조\", \"생산량\", \"일자\", \"강종\", \"강종명\", \"강종구분\"], axis=1) # 여기서도 예측에 사용되지 않는 칼럼들 제거\n",
    "    scrap = scrap.fillna(0.0) # 비어있는 값을 0으로 채웠습니다. 스크랩에서 비어있는 값은 실제로 0을 의미하더라구요(투입되는 양이 0이라는 뜻)\n",
    "    scrap = scrap.iloc[:, :2] # 스크랩 데이터프레임에서는 스크랩 총사용량 변수만 가져와서 사용합니다.(이후 히트별로 전력사용량을 각각의 전체 스크랩 투입량으로 나누는 전력사용량_NORMALIZED 파생변수를 만들 때 사용됩니다.)\n",
    "    \n",
    "    df = pd.merge(df, scrap, on='히트NO.', how='left')\n",
    "    \n",
    "    return df"
   ]
  },
  {
   "cell_type": "code",
   "execution_count": 5,
   "id": "random-marathon",
   "metadata": {},
   "outputs": [
    {
     "name": "stdout",
     "output_type": "stream",
     "text": [
      "Data Loading ...\n"
     ]
    },
    {
     "data": {
      "text/html": [
       "<div>\n",
       "<style scoped>\n",
       "    .dataframe tbody tr th:only-of-type {\n",
       "        vertical-align: middle;\n",
       "    }\n",
       "\n",
       "    .dataframe tbody tr th {\n",
       "        vertical-align: top;\n",
       "    }\n",
       "\n",
       "    .dataframe thead th {\n",
       "        text-align: right;\n",
       "    }\n",
       "</style>\n",
       "<table border=\"1\" class=\"dataframe\">\n",
       "  <thead>\n",
       "    <tr style=\"text-align: right;\">\n",
       "      <th></th>\n",
       "      <th>히트NO.</th>\n",
       "      <th>시간</th>\n",
       "      <th>T.T.T</th>\n",
       "      <th>2차장입 후 시간</th>\n",
       "      <th>전력사용량</th>\n",
       "      <th>로체냉각수유량</th>\n",
       "      <th>로체 입구온도</th>\n",
       "      <th>로체 출구온도</th>\n",
       "      <th>천정 냉각수 유량</th>\n",
       "      <th>천정 입구온도</th>\n",
       "      <th>천정 출구온도</th>\n",
       "      <th>수냉덕트 유량</th>\n",
       "      <th>수냉덕트 입구온도</th>\n",
       "      <th>수냉덕트 출구온도</th>\n",
       "      <th>세틀링 챔버 유량</th>\n",
       "      <th>공냉덕트 입구온도</th>\n",
       "      <th>백필터 온도</th>\n",
       "      <th>EBT_OPEN</th>\n",
       "      <th>출강온도</th>\n",
       "      <th>총사용량</th>\n",
       "    </tr>\n",
       "  </thead>\n",
       "  <tbody>\n",
       "    <tr>\n",
       "      <th>0</th>\n",
       "      <td>4F3452</td>\n",
       "      <td>2021-01-08 16:24:00</td>\n",
       "      <td>66</td>\n",
       "      <td>0.0</td>\n",
       "      <td>0.0</td>\n",
       "      <td>640.0</td>\n",
       "      <td>21.0</td>\n",
       "      <td>21.0</td>\n",
       "      <td>428.0</td>\n",
       "      <td>21.0</td>\n",
       "      <td>26.0</td>\n",
       "      <td>1600</td>\n",
       "      <td>21.0</td>\n",
       "      <td>23.0</td>\n",
       "      <td>NaN</td>\n",
       "      <td>NaN</td>\n",
       "      <td>NaN</td>\n",
       "      <td>0</td>\n",
       "      <td>1583</td>\n",
       "      <td>130.6</td>\n",
       "    </tr>\n",
       "    <tr>\n",
       "      <th>1</th>\n",
       "      <td>4F3452</td>\n",
       "      <td>2021-01-08 16:25:00</td>\n",
       "      <td>66</td>\n",
       "      <td>0.0</td>\n",
       "      <td>0.0</td>\n",
       "      <td>640.0</td>\n",
       "      <td>21.0</td>\n",
       "      <td>21.0</td>\n",
       "      <td>428.0</td>\n",
       "      <td>21.0</td>\n",
       "      <td>26.0</td>\n",
       "      <td>1600</td>\n",
       "      <td>21.0</td>\n",
       "      <td>23.0</td>\n",
       "      <td>NaN</td>\n",
       "      <td>175.833951</td>\n",
       "      <td>NaN</td>\n",
       "      <td>0</td>\n",
       "      <td>1583</td>\n",
       "      <td>130.6</td>\n",
       "    </tr>\n",
       "    <tr>\n",
       "      <th>2</th>\n",
       "      <td>4F3452</td>\n",
       "      <td>2021-01-08 16:26:00</td>\n",
       "      <td>66</td>\n",
       "      <td>0.0</td>\n",
       "      <td>0.0</td>\n",
       "      <td>640.0</td>\n",
       "      <td>21.0</td>\n",
       "      <td>21.0</td>\n",
       "      <td>427.0</td>\n",
       "      <td>21.0</td>\n",
       "      <td>25.0</td>\n",
       "      <td>1600</td>\n",
       "      <td>21.0</td>\n",
       "      <td>23.0</td>\n",
       "      <td>NaN</td>\n",
       "      <td>162.490734</td>\n",
       "      <td>NaN</td>\n",
       "      <td>0</td>\n",
       "      <td>1583</td>\n",
       "      <td>130.6</td>\n",
       "    </tr>\n",
       "    <tr>\n",
       "      <th>3</th>\n",
       "      <td>4F3452</td>\n",
       "      <td>2021-01-08 16:27:00</td>\n",
       "      <td>66</td>\n",
       "      <td>0.0</td>\n",
       "      <td>0.0</td>\n",
       "      <td>639.0</td>\n",
       "      <td>21.0</td>\n",
       "      <td>21.0</td>\n",
       "      <td>427.0</td>\n",
       "      <td>21.0</td>\n",
       "      <td>25.0</td>\n",
       "      <td>1600</td>\n",
       "      <td>21.0</td>\n",
       "      <td>23.0</td>\n",
       "      <td>NaN</td>\n",
       "      <td>148.851001</td>\n",
       "      <td>NaN</td>\n",
       "      <td>0</td>\n",
       "      <td>1583</td>\n",
       "      <td>130.6</td>\n",
       "    </tr>\n",
       "    <tr>\n",
       "      <th>4</th>\n",
       "      <td>4F3452</td>\n",
       "      <td>2021-01-08 16:28:00</td>\n",
       "      <td>66</td>\n",
       "      <td>0.0</td>\n",
       "      <td>0.0</td>\n",
       "      <td>639.0</td>\n",
       "      <td>21.0</td>\n",
       "      <td>21.0</td>\n",
       "      <td>425.0</td>\n",
       "      <td>21.0</td>\n",
       "      <td>24.0</td>\n",
       "      <td>1600</td>\n",
       "      <td>21.0</td>\n",
       "      <td>23.0</td>\n",
       "      <td>NaN</td>\n",
       "      <td>134.914752</td>\n",
       "      <td>NaN</td>\n",
       "      <td>0</td>\n",
       "      <td>1583</td>\n",
       "      <td>130.6</td>\n",
       "    </tr>\n",
       "  </tbody>\n",
       "</table>\n",
       "</div>"
      ],
      "text/plain": [
       "    히트NO.                  시간  T.T.T  2차장입 후 시간  전력사용량  로체냉각수유량  로체 입구온도  \\\n",
       "0  4F3452 2021-01-08 16:24:00     66        0.0    0.0    640.0     21.0   \n",
       "1  4F3452 2021-01-08 16:25:00     66        0.0    0.0    640.0     21.0   \n",
       "2  4F3452 2021-01-08 16:26:00     66        0.0    0.0    640.0     21.0   \n",
       "3  4F3452 2021-01-08 16:27:00     66        0.0    0.0    639.0     21.0   \n",
       "4  4F3452 2021-01-08 16:28:00     66        0.0    0.0    639.0     21.0   \n",
       "\n",
       "   로체 출구온도  천정 냉각수 유량  천정 입구온도  천정 출구온도  수냉덕트 유량  수냉덕트 입구온도  수냉덕트 출구온도  \\\n",
       "0     21.0      428.0     21.0     26.0     1600       21.0       23.0   \n",
       "1     21.0      428.0     21.0     26.0     1600       21.0       23.0   \n",
       "2     21.0      427.0     21.0     25.0     1600       21.0       23.0   \n",
       "3     21.0      427.0     21.0     25.0     1600       21.0       23.0   \n",
       "4     21.0      425.0     21.0     24.0     1600       21.0       23.0   \n",
       "\n",
       "   세틀링 챔버 유량   공냉덕트 입구온도  백필터 온도  EBT_OPEN  출강온도   총사용량  \n",
       "0        NaN         NaN     NaN         0  1583  130.6  \n",
       "1        NaN  175.833951     NaN         0  1583  130.6  \n",
       "2        NaN  162.490734     NaN         0  1583  130.6  \n",
       "3        NaN  148.851001     NaN         0  1583  130.6  \n",
       "4        NaN  134.914752     NaN         0  1583  130.6  "
      ]
     },
     "execution_count": 5,
     "metadata": {},
     "output_type": "execute_result"
    }
   ],
   "source": [
    "print(\"Data Loading ...\")\n",
    "df = load_data(args)  # 전처리된 데이터프레임을 불러옵니다.\n",
    "df.head() \n",
    "\n",
    "# 분석에 필요한 칼럼들과 데이터가 처리되었습니다.\n",
    "# 세틀링 챔버 유량, 백필터 온도 등 NaN값이 있는데, 추후에 이 칼럼들도 제거합니다."
   ]
  },
  {
   "cell_type": "markdown",
   "id": "color-wales",
   "metadata": {},
   "source": [
    "---\n",
    "## <font color='blue'> 3. 전력사용량 기준 전처리 & EBT_OPEN 값 설정 & 새로운 변수 추가</font>\n",
    "\n",
    "* `elec_preprocess_total` : 전력사용량 전처리\n",
    "* `ebt_preprocess` : EBT_OPEN 전처리\n",
    "* `feature_engineering` : 새로운 변수 추가 함수\n",
    "\n",
    "\n",
    "\n",
    "전처리 함수입니다.\n",
    "\n",
    "먼저 elec_preprocess_total 함수를 통해 앞에서 전처리된 데이터프레임을 다시 처리해줍니다. elec_preprocess_total 함수 안에 ebt_preprocess, feature_engineering함수가 같이 쓰이는 형태입니다.\n",
    "\n",
    "이 함수를 통해 전력사용량 기준으로 찾은 비정상적인 히트들을 찾아서 제거합니다.\n",
    "\n",
    "그리고 남아있는 히트들을 통해 저희의 타겟값인 출강여부(EBT_OPEN)를 기준으로 앞 3행, 뒤 1행을 출강시점(1)로 처리해주게 됩니다.\n",
    "        \n",
    "그리고 ebt_preprocess 함수를 거쳐서 EBT_OPEN 타겟값을 한개에서 5개로 늘려줬고(데이터 불균형 문제를 다 해결한건 아니지만, 도메인 지식이 있는 클라이언트인 석사님의 의견을 통해 실제 출강 시점 3분전, 1분후까지는 괜찮을 것 같다는 의견을 바탕으로 이렇게 처리해주었습니다.),\n",
    "\n",
    "feature_engineering 함수를 통해서 파생 변수를 추가해줬습니다. \n",
    "\n",
    "그리고 마지막으로 불필요 칼럼들을 제거하는 코드가 추가되어 있습니다."
   ]
  },
  {
   "cell_type": "code",
   "execution_count": 20,
   "id": "vietnamese-graduation",
   "metadata": {},
   "outputs": [],
   "source": [
    "def elec_preprocess_total(df, args):\n",
    "    \"\"\"\n",
    "    :param df: 불러온 엑셀 데이터를 입력받습니다.\n",
    "    :param args: args.py의 하이퍼파라미터\n",
    "    :return: 전력사용량 및 EBT_OPEN 전처리한 데이터프레임을 반환합니다.\n",
    "    \"\"\"\n",
    "    total = None\n",
    "    names = df['히트NO.'].unique()\n",
    "    for idx, name in tqdm(enumerate(names), total=len(names)):\n",
    "        temp = df[df['히트NO.'] == name].reset_index(drop=True)\n",
    "        \n",
    "        # 처음 10행에서 전력사용량의 절댓값이 20보다 작은 경우의 index 값 가져오기\n",
    "        bool_idx_1 = temp['전력사용량'][:10].apply(lambda x: np.abs(x) < 20)\n",
    "        \n",
    "        # 전력사용량이 20보다 큰 경우가 있으면, 20보다 작은 행만 가져오기.\n",
    "        if sum(bool_idx_1 == False) != 0:\n",
    "            temp = pd.concat([temp[:10][bool_idx_1], temp[10:]], axis=0).reset_index(drop=True)\n",
    "        else:\n",
    "            pass\n",
    "        \n",
    "        # 전력변화량 변수 추가\n",
    "        temp[\"전력변화량\"] = temp['전력사용량']-temp['전력사용량'].shift(1).fillna(0)\n",
    "        \n",
    "        # 전력변화량이 7보다 큰 경우 index 값 가져오기\n",
    "        bool_idx_2 = temp['전력변화량'].apply(lambda x: np.abs(x) > 7)\n",
    "        \n",
    "        # bool_idx_2(전력변화량 7보다 큰 경우)가 한개 이상이면, 그 행 이전까지만 데이터 잘라내기\n",
    "        if sum(bool_idx_2) != 0:\n",
    "            temp = temp.iloc[:bool_idx_2[bool_idx_2 == True].index[0], :]\n",
    "            \n",
    "        # 자르고 난 후, 데이터 길이기 30 미만인 히트면 제거\n",
    "        if len(temp) < 30:\n",
    "            continue\n",
    "        \n",
    "        # 첫 행의 전력사용량이 10 이하인 히트만 가져오기\n",
    "        temp = temp.reset_index(drop=True)\n",
    "        if temp.loc[0, '전력사용량'] > 10:\n",
    "            continue\n",
    "        \n",
    "        # EBT_OPEN 전처리\n",
    "        temp = ebt_preprocess(temp, prev=args[\"PREV\"], post=args[\"POST\"])\n",
    "        \n",
    "        # Feature Engineering\n",
    "        temp = feature_engineering(temp)\n",
    "        \n",
    "        if idx == 0:\n",
    "            total = temp\n",
    "        else:\n",
    "            total = pd.concat([total, temp], axis=0)\n",
    "    \n",
    "    # 학습에 사용하지 않을 변수 제거\n",
    "    total = total.drop([\"T.T.T\",        # 출강 전까지 알 수 없는 변수입니다.\n",
    "                        \"2차장입 후 시간\",  # 시각화 결과, 정확하지 않은 값들이 많았습니다.\n",
    "                        \"로체냉각수유량\",    # 대부분의 값이 630이었고, 학습에 큰 도움이 되지 않았습니다.\n",
    "                        \"수냉덕트 유량\",    # 모든 값이 1600이었습니다.\n",
    "                        \"세틀링 챔버 유량\",  # 분단위로 거의 바뀌지 않는 값이었습니다. 또한 결측치가 많았습니다.(29756개)\n",
    "                        \"백필터 온도\",      # 결측치가 많았습니다.(54617개)\n",
    "                        \"출강온도\",        # 출강 전까지 알 수 없는 변수입니다.\n",
    "                        \"시간\",           # TIME이라는 변수를 따로 추가했습니다.\n",
    "    ], axis=1)\n",
    "    \n",
    "    total = total[~total.isnull().any(axis=1)].reset_index(drop=True) # 결측치 존재하는 행 삭제\n",
    "    \n",
    "    return total.reset_index(drop=True)"
   ]
  },
  {
   "cell_type": "code",
   "execution_count": 21,
   "id": "grateful-spirituality",
   "metadata": {},
   "outputs": [],
   "source": [
    "# EBT_OPEN 전처리\n",
    "def ebt_preprocess(temp, prev=3, post=1):\n",
    "    \"\"\"\n",
    "    elec_preprocess_total 함수에서 사용되는 보조 함수입니다. EBT_OPEN 앞 3행, 뒤 1행을 1로 처리하는 함수입니다!(타겟값 처리)\n",
    "    :param temp: 히트별 데이터프레임을 입력받습니다.\n",
    "    :param prev: 최초로 EBT_OPEN=1이 되는 시점 이전 prev 행\n",
    "    :param post: 최초로 EBT_OPEN=1이 되는 시점 이후 post 행\n",
    "    :return: EBT_OPEN 전처리된 히트별 데이터프레임을 반환합니다.\n",
    "    \"\"\"\n",
    "    # 초반 0~15분 내 1의 값을 갖는 EBT_OPEN은 모두 0 처리\n",
    "    temp[\"EBT_OPEN\"][:15]=0\n",
    "  \n",
    "    #  1의 값이 없으면, 마지막 행 prev+1개를 EBT_OPEN=1로 처리\n",
    "    if temp[\"EBT_OPEN\"].sum() == 0:\n",
    "        # (prev+1)개를 1로 설정\n",
    "        temp['EBT_OPEN'][-(prev+1):] = 1\n",
    "\n",
    "    else:\n",
    "        # 최초 EBT_OPEN 기준으로, 전 후 n분을 1로 설정\n",
    "        temp = temp.iloc[:temp[temp[\"EBT_OPEN\"].apply(lambda x: x == 1) == True].index[0]+(post+1)]\n",
    "        temp[\"EBT_OPEN\"][-prev-(post+1):] = 1\n",
    "    return temp"
   ]
  },
  {
   "cell_type": "code",
   "execution_count": 22,
   "id": "complicated-lightning",
   "metadata": {},
   "outputs": [],
   "source": [
    "# 변수 추가\n",
    "# 위에서 스크랩\n",
    "def feature_engineering(temp):\n",
    "    \"\"\"\n",
    "    elec_preprocess_total 함수에서 사용되는 보조 함수입니다. 입출구 온도차이, 누적 온도차이값, 비율값, 변화량, 석사님이 그때 말씀하셨던 전력사용량을 정규화시키는 전력사용량_NORMALIZED 등 파생변수들을 추가했습니다.\n",
    "    :param temp: 히트별 데이터프레임을 입력받습니다.\n",
    "    :return: 새로운 변수가 추가된 데이터프레임을 반환합니다.\n",
    "    \"\"\"\n",
    "    temp['로체 입출구온도차이'] = temp['로체 출구온도'] - temp['로체 입구온도']                           \n",
    "    temp['천정 입출구온도차이'] = temp['천정 출구온도'] - temp['천정 입구온도']                            \n",
    "    temp['수냉덕트 입출구온도차이'] = temp['수냉덕트 출구온도'] - temp['수냉덕트 입구온도']   \n",
    "    temp['로체입출구온도차이_CUMSUM'] = temp[\"로체 입출구온도차이\"].cumsum()\n",
    "    temp['천정입출구온도차이_CUMSUM'] = temp[\"천정 입출구온도차이\"].cumsum()\n",
    "    temp['수냉덕트입출구온도차이_CUMSUM'] = temp[\"수냉덕트 입출구온도차이\"].cumsum()\n",
    "    temp[\"천정비율\"] = temp[\"천정 입구온도\"] / temp[\"천정 출구온도\"]\n",
    "    temp[\"로체비율\"] = temp[\"로체 입구온도\"] / temp[\"로체 출구온도\"]\n",
    "    temp[\"수냉덕트비율\"] = temp[\"수냉덕트 입구온도\"] / temp[\"수냉덕트 출구온도\"]\n",
    "    temp[\"공냉덕트입구온도변화량\"] = temp['공냉덕트 입구온도']-temp['공냉덕트 입구온도'].shift(1).fillna(0)\n",
    "    temp['TIME'] = range(1, len(temp)+1)   \n",
    "    temp[\"전력사용량_NORMALIZED\"] = temp[\"전력사용량\"]/temp[\"총사용량\"]\n",
    "    temp[\"TIME_NORMALIZED\"] = temp[\"TIME\"]/temp[\"총사용량\"]   \n",
    "\n",
    "    return temp"
   ]
  },
  {
   "cell_type": "code",
   "execution_count": 23,
   "id": "handy-sacramento",
   "metadata": {},
   "outputs": [
    {
     "name": "stderr",
     "output_type": "stream",
     "text": [
      "100%|██████████| 2209/2209 [00:55<00:00, 39.96it/s]\n"
     ]
    }
   ],
   "source": [
    "total = elec_preprocess_total(df, args)"
   ]
  },
  {
   "cell_type": "markdown",
   "id": "declared-immune",
   "metadata": {},
   "source": [
    "---\n",
    "## <font color='blue'> 4. 변수 제거</font>\n",
    "* `drop_columns` 함수\n",
    "\n",
    "모델 성능 실험할 때 불필요 칼럼을 인자값으로 입력하면 제거되게끔 코드를 추가해놓았습니다."
   ]
  },
  {
   "cell_type": "code",
   "execution_count": 27,
   "id": "metallic-electron",
   "metadata": {},
   "outputs": [],
   "source": [
    "# 변수 제거\n",
    "def drop_columns(total, args):\n",
    "    \"\"\"\n",
    "    :param total: 전체 데이터프레임을 입력받습니다.\n",
    "    :param args: args.py의 하이퍼파라미터\n",
    "    :return: args에서 DROP_COLS의 값이 있으면 해당 칼럼을 제거합니다.\n",
    "    \"\"\"\n",
    "    if len(args[\"DROP_COLS\"]) != 0:\n",
    "        total2 = total.drop(args[\"DROP_COLS\"], axis=1)\n",
    "        print(f\"Dropping {len(args['DROP_COLS'])} columns ...\")\n",
    "    else:\n",
    "        total2 = total\n",
    "        print(\"No dropping columns ...\")\n",
    "    return total2"
   ]
  },
  {
   "cell_type": "code",
   "execution_count": 28,
   "id": "extra-friend",
   "metadata": {},
   "outputs": [
    {
     "name": "stdout",
     "output_type": "stream",
     "text": [
      "Dropping 1 columns ...\n",
      "Data Loaded ...\n"
     ]
    }
   ],
   "source": [
    "total2 = drop_columns(total, args)\n",
    "print(\"Data Loaded ...\")"
   ]
  },
  {
   "cell_type": "markdown",
   "id": "adaptive-victim",
   "metadata": {},
   "source": [
    "### <font color='orange'>학습에 사용되는 칼럼 확인</font>\n",
    "* `히트NO.`, `총사용량` 칼럼은 이후 `get_train_test_data` 함수에서 제거됩니다."
   ]
  },
  {
   "cell_type": "code",
   "execution_count": 64,
   "id": "coordinate-contributor",
   "metadata": {},
   "outputs": [
    {
     "data": {
      "text/plain": [
       "Index(['히트NO.', '전력사용량', '로체 입구온도', '로체 출구온도', '천정 입구온도', '천정 출구온도',\n",
       "       '수냉덕트 입구온도', '수냉덕트 출구온도', '공냉덕트 입구온도', 'EBT_OPEN', '총사용량', '전력변화량',\n",
       "       '로체 입출구온도차이', '천정 입출구온도차이', '수냉덕트 입출구온도차이', '로체입출구온도차이_CUMSUM',\n",
       "       '천정입출구온도차이_CUMSUM', '수냉덕트입출구온도차이_CUMSUM', '천정비율', '로체비율', '수냉덕트비율',\n",
       "       '공냉덕트입구온도변화량', 'TIME', '전력사용량_NORMALIZED', 'TIME_NORMALIZED'],\n",
       "      dtype='object')"
      ]
     },
     "execution_count": 64,
     "metadata": {},
     "output_type": "execute_result"
    }
   ],
   "source": [
    "total2.columns"
   ]
  },
  {
   "cell_type": "markdown",
   "id": "terminal-cartridge",
   "metadata": {},
   "source": [
    "---\n",
    "## <font color='blue'> 5. Train:Test 8:2 나누기</font>\n",
    "\n",
    "8:2로 Train, Test 셋을 나누었습니다. 이때 단순히 row 개수로 8:2를 나누지 않고, 하나의 히트에서 이루어지는 공정을 한 묶음으로 간주하여 unique한 히트의 개수로 나누었습니다. 특정 히트가 train으로 나뉘어지면, 그 히트에 해당하는 모든 행들이 모두 train 데이터로 들어가게 됩니다."
   ]
  },
  {
   "cell_type": "code",
   "execution_count": 34,
   "id": "sealed-neighbor",
   "metadata": {},
   "outputs": [],
   "source": [
    "def data_split(df, args):\n",
    "    \"\"\"\n",
    "    :param df: 전처리된 데이터프레임을 입력받습니다.\n",
    "    :param args: args.py의 하이퍼파라미터\n",
    "    :return: 8:2로 split된 train, test 데이터셋을 반환합니다. Row 개수로 나눈 것이 아니라, 히트 개수를 기준으로 8:2로 나누었습니다.\n",
    "    \"\"\"\n",
    "    test_size = int(df[\"히트NO.\"].nunique() * args[\"TEST_SIZE\"])\n",
    "    random.seed(args[\"RANDOM_SEED\"])\n",
    "    train_heats = random.sample(list(df[\"히트NO.\"].unique()), test_size) # 유니크 히트 개수 * 0.2를 랜덤으로 샘플링합니다.\n",
    "    \n",
    "    train_df = df[~df[\"히트NO.\"].isin(train_heats)].reset_index(drop=True)\n",
    "    test_df = df[df[\"히트NO.\"].isin(train_heats)].reset_index(drop=True)\n",
    "    \n",
    "    return train_df, test_df"
   ]
  },
  {
   "cell_type": "code",
   "execution_count": 37,
   "id": "black-crash",
   "metadata": {},
   "outputs": [],
   "source": [
    "train_df, test_df = data_split(total2, args)"
   ]
  },
  {
   "cell_type": "markdown",
   "id": "available-diversity",
   "metadata": {},
   "source": [
    "---\n",
    "## <font color='blue'> 6. Train,Test 데이터를 모델 입력 형태로 만들기</font>\n",
    "* `get_train_test_data` 함수\n",
    "\n",
    "여기서는 이제 X와 y(EBT_OPEN 칼럼) 값을 나누어주고, 스케일링을 적용해줍니다. 스케일링은 Train셋의 각 칼럼별로 평균과 표준편차를 구해서 정규화해주었습니다. 그리고 여기서 구해진 각 칼럼별 평균과 표준편차를 Test셋에 적용해 똑같이 적용해주었습니다. Python 라이브러리인 sklearn의 `StandardScaler`를 사용했습니다."
   ]
  },
  {
   "cell_type": "code",
   "execution_count": 40,
   "id": "compact-dairy",
   "metadata": {},
   "outputs": [],
   "source": [
    "def get_train_test_data(train_df, test_df, args):\n",
    "    \"\"\"\n",
    "    :param train_df: Split된 Train 데이터셋\n",
    "    :param test_df: Split된 Test 데이터셋\n",
    "    :param args: args.py의 하이퍼파라미터\n",
    "    :return: 모델 학습 및 검증이 가능한 형태의 train, test 데이터셋을 반환합니다(x_train, y_train, x_test, y_test).\n",
    "    이때, Train데이터셋 각 칼럼별 평균 및 표준편차를 계산하여 scaler.pkl에 저장하고, 이후 Test셋 스케일링에 사용합니다.\n",
    "    \"\"\"\n",
    "    train_df2 = train_df.drop([\"히트NO.\", \"총사용량\"], axis=1)\n",
    "    test_df2 = test_df.drop([\"히트NO.\", \"총사용량\"], axis=1)\n",
    "\n",
    "    x_train = train_df2.drop([\"EBT_OPEN\"], axis=1)\n",
    "    y_train = train_df2[\"EBT_OPEN\"]   \n",
    "    \n",
    "    x_test = test_df2.drop([\"EBT_OPEN\"], axis=1)\n",
    "    y_test = test_df2[\"EBT_OPEN\"]   \n",
    "    \n",
    "    scaler = StandardScaler()\n",
    "    x_train = scaler.fit_transform(x_train)\n",
    "    x_test = scaler.transform(x_test)\n",
    "    \n",
    "    if not os.path.isdir(args[\"SCALER_PATH\"]):\n",
    "        os.mkdir(args[\"SCALER_PATH\"])    \n",
    "    \n",
    "    pickle.dump(scaler, open(args[\"SCALER_PATH\"]+\"/scaler.pkl\", 'wb'))\n",
    "    print(\"Scaler saved ...\")\n",
    "    return x_train, y_train, x_test, y_test"
   ]
  },
  {
   "cell_type": "code",
   "execution_count": 41,
   "id": "bored-harassment",
   "metadata": {},
   "outputs": [
    {
     "name": "stdout",
     "output_type": "stream",
     "text": [
      "Scaler saved ...\n"
     ]
    }
   ],
   "source": [
    "x_train, y_train, x_test, y_test = get_train_test_data(train_df, test_df, args)"
   ]
  },
  {
   "cell_type": "markdown",
   "id": "otherwise-scientist",
   "metadata": {},
   "source": [
    "---\n",
    "## <font color='blue'> 7. 훈련되지 않은 모델 불러오기</font>\n",
    "* `get_models` 함수\n",
    "\n",
    "\n",
    "* 아래 모델들은 각각 하이퍼파라미터가 튜닝된 학습되지 않은 모델들입니다. 하이퍼 파라미터는 그리드 서치를 통해 찾은 값들입니다.\n",
    "* 학습되지 않은 모델 뼈대를 먼저 불러옵니다."
   ]
  },
  {
   "cell_type": "code",
   "execution_count": 42,
   "id": "younger-bowling",
   "metadata": {},
   "outputs": [],
   "source": [
    "def get_models(args):\n",
    "    \"\"\"\n",
    "    :param args: args.py의 하이퍼파라미터\n",
    "    :return: 하이퍼파라미터가 설정된 모델들을 리스트에 저장하여 반환합니다.\n",
    "    \"\"\"\n",
    "    ran = RandomForestClassifier(random_state=args[\"RANDOM_SEED\"],\n",
    "                                 max_depth=None,\n",
    "                                 max_features=0.5,\n",
    "                                 min_samples_leaf=6,\n",
    "                                 min_samples_split=2,\n",
    "                                 n_estimators=200)\n",
    "    ext = ExtraTreesClassifier(random_state=args[\"RANDOM_SEED\"],\n",
    "                               max_depth=None,\n",
    "                               max_features=0.5,\n",
    "                               min_samples_leaf=2,\n",
    "                               min_samples_split=10,\n",
    "                               n_estimators=75)\n",
    "    lgbm = LGBMClassifier(random_state=args[\"RANDOM_SEED\"],\n",
    "                          num_leaves=50,\n",
    "                          max_depth=6,\n",
    "                          learning_rate=0.1,\n",
    "                          colsample_bytree=0.8)\n",
    "    xgb = XGBClassifier(random_state=args[\"RANDOM_SEED\"],\n",
    "                        objective='binary:logistic',eval_metric='logloss',\n",
    "                        max_depth=3,\n",
    "                        n_estimators=140)\n",
    "    bag = BaggingClassifier(random_state=args[\"RANDOM_SEED\"],\n",
    "                            max_features=1.0,\n",
    "                            max_samples=0.5,\n",
    "                            n_estimators=200)\n",
    "    gbc = GradientBoostingClassifier(random_state=args[\"RANDOM_SEED\"],\n",
    "                                     learning_rate=0.05,\n",
    "                                     n_estimators=1000)\n",
    "    \n",
    "    model_list = [ran, ext, lgbm, xgb, bag, gbc]\n",
    "    \n",
    "    return model_list"
   ]
  },
  {
   "cell_type": "code",
   "execution_count": 44,
   "id": "essential-xerox",
   "metadata": {},
   "outputs": [
    {
     "name": "stdout",
     "output_type": "stream",
     "text": [
      "X_train : (88948, 22)\n",
      "x_test : (22143, 22)\n",
      "Training Starts ...\n"
     ]
    }
   ],
   "source": [
    "model_list = get_models(args)\n",
    "print(f\"X_train : {x_train.shape}\\nx_test : {x_test.shape}\")\n",
    "print(\"Training Starts ...\")"
   ]
  },
  {
   "cell_type": "markdown",
   "id": "informative-disclosure",
   "metadata": {},
   "source": [
    "---\n",
    "## <font color='blue'> 8. 6개 모델 모두 훈련시키기</font>\n",
    "* `train` 함수\n",
    "\n",
    "각 모델별로 훈련을 진행합니다."
   ]
  },
  {
   "cell_type": "code",
   "execution_count": 49,
   "id": "tutorial-things",
   "metadata": {},
   "outputs": [],
   "source": [
    "def train(model_list, x_train, y_train):\n",
    "    \"\"\"\n",
    "    :param model_list: 학습이 되지 않은 모델 리스트를 입력받습니다.\n",
    "    :param x_train: 학습에 사용될 독립변수를 입력받습니다.\n",
    "    :param y_train: 학습에 사용될 종속변수를 입력받습니다.\n",
    "    :return: 학습이 완료된 모델을 리스트에 저장하여 반환합니다.\n",
    "    \"\"\"\n",
    "    for ind, mod in enumerate(model_list):\n",
    "        a = time.time()\n",
    "        mod.fit(x_train, y_train)\n",
    "        print(f\"{ind + 1}/{len(model_list)} {str(model_list[ind]).split('(')[0]} ... \" +\n",
    "              \"Time: {:.1f} ...\".format(time.time() - a))\n",
    "    return model_list"
   ]
  },
  {
   "cell_type": "code",
   "execution_count": 50,
   "id": "juvenile-journey",
   "metadata": {},
   "outputs": [
    {
     "name": "stdout",
     "output_type": "stream",
     "text": [
      "1/6 RandomForestClassifier ... Time: 37.0 ...\n",
      "2/6 ExtraTreesClassifier ... Time: 3.0 ...\n",
      "3/6 LGBMClassifier ... Time: 0.4 ...\n",
      "4/6 XGBClassifier ... Time: 2.6 ...\n",
      "5/6 BaggingClassifier ... Time: 46.2 ...\n",
      "6/6 GradientBoostingClassifier ... Time: 180.8 ...\n"
     ]
    }
   ],
   "source": [
    "model_list = train(model_list, x_train, y_train)"
   ]
  },
  {
   "cell_type": "markdown",
   "id": "under-poland",
   "metadata": {},
   "source": [
    "---\n",
    "## <font color='blue'> 9. 훈련된 모델 저장하기</font>\n",
    "* `save_model` 함수\n",
    "\n",
    "훈련된 모델을 피클 형태로 저장해놓습니다."
   ]
  },
  {
   "cell_type": "code",
   "execution_count": 51,
   "id": "compatible-egypt",
   "metadata": {},
   "outputs": [],
   "source": [
    "# 학습한 모델 저장\n",
    "def save_model(model_list, args):\n",
    "    \"\"\"\n",
    "    :param model_list: 학습이 완료된 모델 리스트를 입력받습니다.\n",
    "    :param args: args.py의 하이퍼파라미터\n",
    "    :return: 따로 반환값은 없고, 함수 실행 시 학습 완료된 모델을 'MODEL_SAVE_PATH'에 'ensemble_model.pkl' 파일명으로 저장합니다.\n",
    "    \"\"\"\n",
    "    filename = args[\"MODEL_SAVE_PATH\"] + \"/ensemble_model.pkl\"\n",
    "    if not os.path.isdir(args[\"MODEL_SAVE_PATH\"]):\n",
    "        os.mkdir(args[\"MODEL_SAVE_PATH\"])    \n",
    "    pickle.dump(model_list, open(filename, 'wb')) \n",
    "    print(\"Model saved ...\")\n",
    "    return"
   ]
  },
  {
   "cell_type": "code",
   "execution_count": 52,
   "id": "accredited-webmaster",
   "metadata": {},
   "outputs": [
    {
     "name": "stdout",
     "output_type": "stream",
     "text": [
      "Model saved ...\n"
     ]
    }
   ],
   "source": [
    "save_model(model_list, args)\n",
    "print(\"Training finished ...\")"
   ]
  },
  {
   "cell_type": "markdown",
   "id": "refined-depression",
   "metadata": {},
   "source": [
    "---\n",
    "## <font color='blue'> 10. 훈련된 모델로 Test 하기</font>\n",
    "* `test` 함수\n",
    "\n",
    "Test셋을 예측합니다. \n",
    "\n",
    "여기서, 학습된 6개의 모델을 소프트 보팅이라고 하는 방법으로 앙상블 해주었습니다. 이는 6개의 모델로 예측된 확률값의 평균을 구하는 방식입니다. \n",
    "\n",
    "Decision threshold는 0.5로 설정해서, 평균 예측값이 0.5보다 크면 1(출강시점)로 예측하게 하였습니다."
   ]
  },
  {
   "cell_type": "code",
   "execution_count": 53,
   "id": "severe-saver",
   "metadata": {},
   "outputs": [],
   "source": [
    "# test\n",
    "def test(model_list, x_test, y_test, test_df):\n",
    "    \"\"\"\n",
    "    :param model_list: 학습이 완료된 모델 리스트를 입력받습니다.\n",
    "    :param x_test: 검증에 사용될 독립변수를 입력받습니다.\n",
    "    :param y_test: 검증에 사용될 종속변수를 입력받습니다.\n",
    "    :param test_df: test셋 데이터프레임을 입력받습니다.\n",
    "    :return: test_df에 모델의 예측값이 추가된 데이터프레임을 반환합니다.\n",
    "    \"\"\"\n",
    "    p = []\n",
    "    for mod in model_list:\n",
    "        predict_proba = mod.predict_proba(x_test)\n",
    "        p.append(predict_proba[:, 1])  # 6개의 모델로 예측되는 값을 차례대로 저장해둡니다.\n",
    "\n",
    "    result_proba = sum(p) / len(model_list) # 예측값의 평균을 구해줍니다.\n",
    "    result = np.where(result_proba > 0.5, 1, 0)\n",
    "\n",
    "    predict_df = pd.DataFrame({\"label\": y_test.values, \"predict\": result, \"predict_prob\": np.round(result_proba, 3)})\n",
    "    total_test_df = pd.concat([test_df, predict_df], axis=1)\n",
    "\n",
    "    return total_test_df"
   ]
  },
  {
   "cell_type": "code",
   "execution_count": 54,
   "id": "center-vanilla",
   "metadata": {},
   "outputs": [],
   "source": [
    "total_test_df = test(model_list, x_test, y_test, test_df)"
   ]
  },
  {
   "cell_type": "markdown",
   "id": "noble-taiwan",
   "metadata": {},
   "source": [
    "---\n",
    "## <font color='blue'> 11. 모델 결과 csv 저장하기</font>\n",
    "* 먼저 RESULT_PATH 경로를 만들고 result.csv로 저장합니다."
   ]
  },
  {
   "cell_type": "code",
   "execution_count": 56,
   "id": "figured-antenna",
   "metadata": {},
   "outputs": [],
   "source": [
    "if not os.path.isdir(args[\"RESULT_PATH\"]):\n",
    "    os.mkdir(args[\"RESULT_PATH\"])"
   ]
  },
  {
   "cell_type": "code",
   "execution_count": 57,
   "id": "arabic-independence",
   "metadata": {},
   "outputs": [],
   "source": [
    "total_test_df.to_csv(args[\"RESULT_PATH\"] + \"/result.csv\", index=False)"
   ]
  },
  {
   "cell_type": "markdown",
   "id": "sustained-graph",
   "metadata": {},
   "source": [
    "---\n",
    "## <font color='blue'> 12. 모델 결과 시각화하기</font>\n",
    "* `model_metrics` 함수"
   ]
  },
  {
   "cell_type": "code",
   "execution_count": 59,
   "id": "super-hughes",
   "metadata": {},
   "outputs": [],
   "source": [
    "def model_metrics(total_test_df):\n",
    "    \"\"\"\n",
    "    :param total_test_df: 모델로 예측한 결과가 저장된 데이터프레임을 입력받습니다.\n",
    "    :return: 함수 실행 시, 예측 결과(Precision, Recall, Accuracy, AUC)를 출력하고, Confusion Metrics, ROC 곡선, Precision/Recall 곡선을 시각화합니다.\n",
    "    \"\"\"\n",
    "    fig, axes = plt.subplots(1, 3)\n",
    "    fig.set_size_inches(20, 5)\n",
    "\n",
    "    predict = total_test_df[\"predict\"].values\n",
    "    label = total_test_df[\"label\"].values\n",
    "    predict_proba = total_test_df[\"predict_prob\"].values\n",
    "\n",
    "    # Precisions/Recalls\n",
    "    precisions, recalls, thresholds = precision_recall_curve(label, predict_proba)\n",
    "\n",
    "    min_idx = np.argmin(abs(recalls - precisions))\n",
    "    intersect_point = thresholds[min_idx]\n",
    "\n",
    "    axes[1].plot(thresholds, precisions[:-1], \"b--\", label=\"Precision\")\n",
    "    axes[1].plot(thresholds, recalls[:-1], \"g--\", label=\"Recall\")\n",
    "    axes[1].plot(intersect_point, precisions[min_idx], 'xr', label='Intersection point', color='red')\n",
    "    axes[1].set_title('Precision/Recall Curve')\n",
    "    axes[1].legend(loc='lower center', prop={'size': 10})\n",
    "    axes[1].annotate(\"{:.3f}\".format(intersect_point),\n",
    "                     xy=(intersect_point, precisions[min_idx]),\n",
    "                     xytext=(intersect_point, precisions[min_idx] + 0.15),\n",
    "                     ha=\"center\",\n",
    "                     arrowprops=dict(facecolor='black', shrink=0.15),\n",
    "                     fontsize=15,\n",
    "                     )\n",
    "\n",
    "    # ROC curve\n",
    "    false_positive_rate, true_positive_rate, threshold = roc_curve(label, predict_proba)\n",
    "    axes[2].set_title('ROC curve')\n",
    "    axes[2].plot(false_positive_rate, true_positive_rate)\n",
    "    axes[2].plot([0, 1], ls=\"--\")\n",
    "    axes[2].plot([0, 0], [1, 0], c=\".7\"), axes[2].plot([1, 1], c=\".7\")\n",
    "    axes[2].set_ylabel('True Positive Rate')\n",
    "    axes[2].set_xlabel('False Positive Rate')\n",
    "\n",
    "    # Confusion Matrix\n",
    "    print(\"*\" * 50)\n",
    "    cf_mtx = confusion_matrix(label, predict)\n",
    "    print(f\"Confusion Matrix :\\n{cf_mtx}\")\n",
    "    df_cm = pd.DataFrame(cf_mtx, index=[i for i in [0, 1]],\n",
    "                         columns=[i for i in [0, 1]])\n",
    "    sns.heatmap(df_cm, annot=True, cmap=plt.cm.viridis, fmt='g', ax=axes[0])\n",
    "\n",
    "    axes[0].set_xlabel(\"Predicted label\")\n",
    "    axes[0].set_ylabel(\"True label\")\n",
    "    axes[0].set_title(\"Confusion Matrix\")\n",
    "\n",
    "    print(\"\\nAccuracy score: {:.4f}\".format(accuracy_score(label, predict)))\n",
    "    print(\"Precision score: {:.4f}\".format(precision_score(label, predict)))\n",
    "    print(\"Recall score: {:.4f}\".format(recall_score(label, predict)))\n",
    "    print(\"F1 score : {:.4f}\".format(f1_score(label, predict)))\n",
    "    print(\"AUC: Area Under Curve: {:.4f}\\n\".format(roc_auc_score(label, predict_proba)))\n",
    "\n",
    "    print(f\"Intersection point : {intersect_point}\")\n",
    "    print(\"*\" * 50)\n",
    "\n",
    "    plt.show()"
   ]
  },
  {
   "cell_type": "code",
   "execution_count": 62,
   "id": "nasty-bradford",
   "metadata": {},
   "outputs": [
    {
     "name": "stdout",
     "output_type": "stream",
     "text": [
      "**************************************************\n",
      "Confusion Matrix :\n",
      "[[19715   385]\n",
      " [  505  1538]]\n",
      "\n",
      "Accuracy score: 0.9598\n",
      "Precision score: 0.7998\n",
      "Recall score: 0.7528\n",
      "F1 score : 0.7756\n",
      "AUC: Area Under Curve: 0.9848\n",
      "\n",
      "Intersection point : 0.461\n",
      "**************************************************\n"
     ]
    },
    {
     "data": {
      "image/png": "[encoded data removed]",
      "text/plain": [
       "<Figure size 1440x360 with 4 Axes>"
      ]
     },
     "metadata": {
      "needs_background": "light"
     },
     "output_type": "display_data"
    },
    {
     "name": "stdout",
     "output_type": "stream",
     "text": [
      "Prediction finished ...\n"
     ]
    }
   ],
   "source": [
    "model_metrics(total_test_df)\n",
    "print(\"Prediction finished ...\")"
   ]
  },
  {
   "cell_type": "markdown",
   "id": "noted-mailman",
   "metadata": {},
   "source": [
    "---\n",
    "\n",
    "## <font color='blue'> 13. 결론</font>\n",
    "\n",
    "* Test셋 중, 0의 비율이 약 91%입니다. 현재 저희 모델은 약 96%를 정확하게 예측하고 있다는 점에서 나쁘지 않은 성능을 보여주고 있습니다.\n",
    "* 전기로  출강 관련 더욱 깊은 도메인 지식을 바탕으로 고도의 feature engineering을 적용해보는 방향으로 모델을 개선해볼 수 있을 것 같습니다. \n",
    "* 또한 추후 계속 데이터가 쌓인다고 하니, 이를 통해 모델 성능을 고도화해볼 수도 있을 것 같습니다."
   ]
  },
  {
   "cell_type": "code",
   "execution_count": null,
   "id": "legal-scholar",
   "metadata": {},
   "outputs": [],
   "source": []
  }
 ],
 "metadata": {
  "kernelspec": {
   "display_name": "Python 3",
   "language": "python",
   "name": "python3"
  },
  "language_info": {
   "codemirror_mode": {
    "name": "ipython",
    "version": 3
   },
   "file_extension": ".py",
   "mimetype": "text/x-python",
   "name": "python",
   "nbconvert_exporter": "python",
   "pygments_lexer": "ipython3",
   "version": "3.8.8"
  }
 },
 "nbformat": 4,
 "nbformat_minor": 5
}
